{
  "nbformat": 4,
  "nbformat_minor": 0,
  "metadata": {
    "colab": {
      "provenance": [],
      "authorship_tag": "ABX9TyNFB6HM49rXCXPnIeo82L1c",
      "include_colab_link": true
    },
    "kernelspec": {
      "name": "python3",
      "display_name": "Python 3"
    },
    "language_info": {
      "name": "python"
    }
  },
  "cells": [
    {
      "cell_type": "markdown",
      "metadata": {
        "id": "view-in-github",
        "colab_type": "text"
      },
      "source": [
        "<a href=\"https://colab.research.google.com/github/nishmethuku/Recipe-Generator/blob/main/guess_the_number.ipynb\" target=\"_parent\"><img src=\"https://colab.research.google.com/assets/colab-badge.svg\" alt=\"Open In Colab\"/></a>"
      ]
    },
    {
      "cell_type": "code",
      "execution_count": 2,
      "metadata": {
        "colab": {
          "base_uri": "https://localhost:8080/"
        },
        "id": "EWZSwcwZ3Mbn",
        "outputId": "97045fbe-3345-4249-c491-c0d4bd4be302"
      },
      "outputs": [
        {
          "output_type": "stream",
          "name": "stdout",
          "text": [
            "Welcome to the Number Guessing Game!\n",
            "I'm thinking of a number between 1 and 100. Can you guess it?\n",
            "Enter your guess: 95\n",
            "Too high! Try a lower number.\n",
            "Enter your guess: 34\n",
            "Too low! Try a higher number.\n",
            "Enter your guess: 67\n",
            "Too high! Try a lower number.\n",
            "Enter your guess: 55\n",
            "Too high! Try a lower number.\n",
            "Enter your guess: 45\n",
            "Too high! Try a lower number.\n",
            "Sorry, you've run out of attempts. The number I was thinking of was 44.\n"
          ]
        }
      ],
      "source": [
        "import random\n",
        "\n",
        "def guessing_game():\n",
        "    number_to_guess = random.randint(1, 100)\n",
        "    attempts = 0\n",
        "    max_attempts = 5  # Change the number of attempts allowed here\n",
        "\n",
        "    print(\"Welcome to the Number Guessing Game!\")\n",
        "    print(\"I'm thinking of a number between 1 and 100. Can you guess it?\")\n",
        "\n",
        "    while attempts < max_attempts:\n",
        "        guess = int(input(\"Enter your guess: \"))\n",
        "\n",
        "        if guess < number_to_guess:\n",
        "            print(\"Too low! Try a higher number.\")\n",
        "        elif guess > number_to_guess:\n",
        "            print(\"Too high! Try a lower number.\")\n",
        "        else:\n",
        "            print(f\"Congratulations! You guessed the number ({number_to_guess}) in {attempts + 1} attempts!\")\n",
        "            return True\n",
        "\n",
        "        attempts += 1\n",
        "\n",
        "    print(f\"Sorry, you've run out of attempts. The number I was thinking of was {number_to_guess}.\")\n",
        "    return False\n",
        "\n",
        "play_again = True\n",
        "\n",
        "while play_again:\n",
        "    play_again = guessing_game()\n",
        "    if play_again:\n",
        "        choice = input(\"Do you want to play again? (yes/no): \")\n",
        "        play_again = choice.lower() == 'yes'\n"
      ]
    }
  ]
}